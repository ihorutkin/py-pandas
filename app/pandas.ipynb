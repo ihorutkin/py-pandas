{
 "cells": [
  {
   "cell_type": "markdown",
   "source": [
    "# Pandas"
   ],
   "metadata": {
    "collapsed": false
   }
  },
  {
   "cell_type": "markdown",
   "source": [
    "## Task 1\n",
    "\n",
    "You should import the necessary libraries. You will use `numpy` and `pandas` libraries.\n",
    "\n",
    "\n",
    "> Don't forget to import `numpy`, and `pandas` in short form."
   ],
   "metadata": {
    "collapsed": false
   }
  },
  {
   "cell_type": "code",
   "metadata": {
    "collapsed": true,
    "ExecuteTime": {
     "end_time": "2024-11-06T21:03:38.046814Z",
     "start_time": "2024-11-06T21:03:38.042021Z"
    }
   },
   "source": [
    "import pandas as pd\n",
    "import numpy as np\n",
    "from datetime import datetime\n",
    "\n",
    "from pandas.core.interchange.dataframe_protocol import DataFrame"
   ],
   "outputs": [],
   "execution_count": 10
  },
  {
   "cell_type": "markdown",
   "source": [
    "## Task 2\n",
    "\n",
    "Create a `DataFrame` from the given dictionary `data`."
   ],
   "metadata": {
    "collapsed": false
   }
  },
  {
   "cell_type": "code",
   "source": [
    "data = {\n",
    "    \"Name\": [\"John\", \"Emily\", \"Ryan\"],\n",
    "    \"Age\": [16, 28, 22],\n",
    "    \"City\": [\"New York\", \"Los Angeles\", \"Chicago\"],\n",
    "}\n",
    "\n",
    "df = pd.DataFrame(data)\n",
    "df\n",
    "\n",
    "# write your code here"
   ],
   "metadata": {
    "collapsed": false,
    "ExecuteTime": {
     "end_time": "2024-11-06T20:57:27.240985Z",
     "start_time": "2024-11-06T20:57:27.217626Z"
    }
   },
   "outputs": [
    {
     "data": {
      "text/plain": [
       "    Name  Age         City\n",
       "0   John   16     New York\n",
       "1  Emily   28  Los Angeles\n",
       "2   Ryan   22      Chicago"
      ],
      "text/html": [
       "<div>\n",
       "<style scoped>\n",
       "    .dataframe tbody tr th:only-of-type {\n",
       "        vertical-align: middle;\n",
       "    }\n",
       "\n",
       "    .dataframe tbody tr th {\n",
       "        vertical-align: top;\n",
       "    }\n",
       "\n",
       "    .dataframe thead th {\n",
       "        text-align: right;\n",
       "    }\n",
       "</style>\n",
       "<table border=\"1\" class=\"dataframe\">\n",
       "  <thead>\n",
       "    <tr style=\"text-align: right;\">\n",
       "      <th></th>\n",
       "      <th>Name</th>\n",
       "      <th>Age</th>\n",
       "      <th>City</th>\n",
       "    </tr>\n",
       "  </thead>\n",
       "  <tbody>\n",
       "    <tr>\n",
       "      <th>0</th>\n",
       "      <td>John</td>\n",
       "      <td>16</td>\n",
       "      <td>New York</td>\n",
       "    </tr>\n",
       "    <tr>\n",
       "      <th>1</th>\n",
       "      <td>Emily</td>\n",
       "      <td>28</td>\n",
       "      <td>Los Angeles</td>\n",
       "    </tr>\n",
       "    <tr>\n",
       "      <th>2</th>\n",
       "      <td>Ryan</td>\n",
       "      <td>22</td>\n",
       "      <td>Chicago</td>\n",
       "    </tr>\n",
       "  </tbody>\n",
       "</table>\n",
       "</div>"
      ]
     },
     "execution_count": 4,
     "metadata": {},
     "output_type": "execute_result"
    }
   ],
   "execution_count": 4
  },
  {
   "cell_type": "markdown",
   "source": [
    "## Task 3\n",
    "\n",
    "In this task you should complete the following steps:"
   ],
   "metadata": {
    "collapsed": false
   }
  },
  {
   "cell_type": "markdown",
   "source": [
    "### Task 3.1\n",
    "Display all data for `Age` column for the DataFrame you created in the previous task."
   ],
   "metadata": {
    "collapsed": false
   }
  },
  {
   "cell_type": "code",
   "source": "df[\"Age\"]",
   "metadata": {
    "collapsed": false,
    "ExecuteTime": {
     "end_time": "2024-11-06T20:58:19.972618Z",
     "start_time": "2024-11-06T20:58:19.964475Z"
    }
   },
   "outputs": [
    {
     "data": {
      "text/plain": [
       "0    16\n",
       "1    28\n",
       "2    22\n",
       "Name: Age, dtype: int64"
      ]
     },
     "execution_count": 5,
     "metadata": {},
     "output_type": "execute_result"
    }
   ],
   "execution_count": 5
  },
  {
   "cell_type": "markdown",
   "source": [
    "### Task 3.2\n",
    "\n",
    "Add `Salary` column to the `DataFrame` with the values `[50000, 60000, 45000]`."
   ],
   "metadata": {
    "collapsed": false
   }
  },
  {
   "cell_type": "code",
   "source": [
    "df[\"Salary\"] = [50000, 60000, 45000]\n",
    "df"
   ],
   "metadata": {
    "collapsed": false,
    "ExecuteTime": {
     "end_time": "2024-11-06T20:59:53.074667Z",
     "start_time": "2024-11-06T20:59:53.062314Z"
    }
   },
   "outputs": [
    {
     "data": {
      "text/plain": [
       "    Name  Age         City  Salary\n",
       "0   John   16     New York   50000\n",
       "1  Emily   28  Los Angeles   60000\n",
       "2   Ryan   22      Chicago   45000"
      ],
      "text/html": [
       "<div>\n",
       "<style scoped>\n",
       "    .dataframe tbody tr th:only-of-type {\n",
       "        vertical-align: middle;\n",
       "    }\n",
       "\n",
       "    .dataframe tbody tr th {\n",
       "        vertical-align: top;\n",
       "    }\n",
       "\n",
       "    .dataframe thead th {\n",
       "        text-align: right;\n",
       "    }\n",
       "</style>\n",
       "<table border=\"1\" class=\"dataframe\">\n",
       "  <thead>\n",
       "    <tr style=\"text-align: right;\">\n",
       "      <th></th>\n",
       "      <th>Name</th>\n",
       "      <th>Age</th>\n",
       "      <th>City</th>\n",
       "      <th>Salary</th>\n",
       "    </tr>\n",
       "  </thead>\n",
       "  <tbody>\n",
       "    <tr>\n",
       "      <th>0</th>\n",
       "      <td>John</td>\n",
       "      <td>16</td>\n",
       "      <td>New York</td>\n",
       "      <td>50000</td>\n",
       "    </tr>\n",
       "    <tr>\n",
       "      <th>1</th>\n",
       "      <td>Emily</td>\n",
       "      <td>28</td>\n",
       "      <td>Los Angeles</td>\n",
       "      <td>60000</td>\n",
       "    </tr>\n",
       "    <tr>\n",
       "      <th>2</th>\n",
       "      <td>Ryan</td>\n",
       "      <td>22</td>\n",
       "      <td>Chicago</td>\n",
       "      <td>45000</td>\n",
       "    </tr>\n",
       "  </tbody>\n",
       "</table>\n",
       "</div>"
      ]
     },
     "execution_count": 7,
     "metadata": {},
     "output_type": "execute_result"
    }
   ],
   "execution_count": 7
  },
  {
   "cell_type": "markdown",
   "source": [
    "### Task 3.3\n",
    "\n",
    "Filter the `DataFrame` to show only the rows with the `Age` greater than 18."
   ],
   "metadata": {
    "collapsed": false
   }
  },
  {
   "cell_type": "code",
   "source": "df[df[\"Age\"] > 18]",
   "metadata": {
    "collapsed": false,
    "ExecuteTime": {
     "end_time": "2024-11-06T21:00:19.236803Z",
     "start_time": "2024-11-06T21:00:19.221652Z"
    }
   },
   "outputs": [
    {
     "data": {
      "text/plain": [
       "    Name  Age         City  Salary\n",
       "1  Emily   28  Los Angeles   60000\n",
       "2   Ryan   22      Chicago   45000"
      ],
      "text/html": [
       "<div>\n",
       "<style scoped>\n",
       "    .dataframe tbody tr th:only-of-type {\n",
       "        vertical-align: middle;\n",
       "    }\n",
       "\n",
       "    .dataframe tbody tr th {\n",
       "        vertical-align: top;\n",
       "    }\n",
       "\n",
       "    .dataframe thead th {\n",
       "        text-align: right;\n",
       "    }\n",
       "</style>\n",
       "<table border=\"1\" class=\"dataframe\">\n",
       "  <thead>\n",
       "    <tr style=\"text-align: right;\">\n",
       "      <th></th>\n",
       "      <th>Name</th>\n",
       "      <th>Age</th>\n",
       "      <th>City</th>\n",
       "      <th>Salary</th>\n",
       "    </tr>\n",
       "  </thead>\n",
       "  <tbody>\n",
       "    <tr>\n",
       "      <th>1</th>\n",
       "      <td>Emily</td>\n",
       "      <td>28</td>\n",
       "      <td>Los Angeles</td>\n",
       "      <td>60000</td>\n",
       "    </tr>\n",
       "    <tr>\n",
       "      <th>2</th>\n",
       "      <td>Ryan</td>\n",
       "      <td>22</td>\n",
       "      <td>Chicago</td>\n",
       "      <td>45000</td>\n",
       "    </tr>\n",
       "  </tbody>\n",
       "</table>\n",
       "</div>"
      ]
     },
     "execution_count": 8,
     "metadata": {},
     "output_type": "execute_result"
    }
   ],
   "execution_count": 8
  },
  {
   "cell_type": "markdown",
   "source": [
    "## Task 4\n",
    "\n",
    "In this task you should complete the following steps:"
   ],
   "metadata": {
    "collapsed": false
   }
  },
  {
   "cell_type": "markdown",
   "source": [
    "### Task 4.1\n",
    "\n",
    "Add new calculated field `Birth year`;"
   ],
   "metadata": {
    "collapsed": false
   }
  },
  {
   "cell_type": "code",
   "source": [
    "current_year = datetime.now().year\n",
    "df[\"BirthYear\"] = current_year - df[\"Age\"]\n",
    "df"
   ],
   "metadata": {
    "collapsed": false,
    "ExecuteTime": {
     "end_time": "2024-11-06T21:04:38.753055Z",
     "start_time": "2024-11-06T21:04:38.736165Z"
    }
   },
   "outputs": [
    {
     "data": {
      "text/plain": [
       "    Name  Age         City  Salary  BirthYear\n",
       "0   John   16     New York   50000       2008\n",
       "1  Emily   28  Los Angeles   60000       1996\n",
       "2   Ryan   22      Chicago   45000       2002"
      ],
      "text/html": [
       "<div>\n",
       "<style scoped>\n",
       "    .dataframe tbody tr th:only-of-type {\n",
       "        vertical-align: middle;\n",
       "    }\n",
       "\n",
       "    .dataframe tbody tr th {\n",
       "        vertical-align: top;\n",
       "    }\n",
       "\n",
       "    .dataframe thead th {\n",
       "        text-align: right;\n",
       "    }\n",
       "</style>\n",
       "<table border=\"1\" class=\"dataframe\">\n",
       "  <thead>\n",
       "    <tr style=\"text-align: right;\">\n",
       "      <th></th>\n",
       "      <th>Name</th>\n",
       "      <th>Age</th>\n",
       "      <th>City</th>\n",
       "      <th>Salary</th>\n",
       "      <th>BirthYear</th>\n",
       "    </tr>\n",
       "  </thead>\n",
       "  <tbody>\n",
       "    <tr>\n",
       "      <th>0</th>\n",
       "      <td>John</td>\n",
       "      <td>16</td>\n",
       "      <td>New York</td>\n",
       "      <td>50000</td>\n",
       "      <td>2008</td>\n",
       "    </tr>\n",
       "    <tr>\n",
       "      <th>1</th>\n",
       "      <td>Emily</td>\n",
       "      <td>28</td>\n",
       "      <td>Los Angeles</td>\n",
       "      <td>60000</td>\n",
       "      <td>1996</td>\n",
       "    </tr>\n",
       "    <tr>\n",
       "      <th>2</th>\n",
       "      <td>Ryan</td>\n",
       "      <td>22</td>\n",
       "      <td>Chicago</td>\n",
       "      <td>45000</td>\n",
       "      <td>2002</td>\n",
       "    </tr>\n",
       "  </tbody>\n",
       "</table>\n",
       "</div>"
      ]
     },
     "execution_count": 11,
     "metadata": {},
     "output_type": "execute_result"
    }
   ],
   "execution_count": 11
  },
  {
   "cell_type": "markdown",
   "source": [
    "### Task 4.2\n",
    "\n",
    "Add new calculated field `Average age`."
   ],
   "metadata": {
    "collapsed": false
   }
  },
  {
   "cell_type": "code",
   "source": [
    "average_age = df[\"Age\"].mean()\n",
    "df[\"AverageAge\"] = average_age\n",
    "df"
   ],
   "metadata": {
    "collapsed": false,
    "ExecuteTime": {
     "end_time": "2024-11-06T21:05:54.454296Z",
     "start_time": "2024-11-06T21:05:54.436224Z"
    }
   },
   "outputs": [
    {
     "data": {
      "text/plain": [
       "    Name  Age         City  Salary  BirthYear  AverageAge\n",
       "0   John   16     New York   50000       2008        22.0\n",
       "1  Emily   28  Los Angeles   60000       1996        22.0\n",
       "2   Ryan   22      Chicago   45000       2002        22.0"
      ],
      "text/html": [
       "<div>\n",
       "<style scoped>\n",
       "    .dataframe tbody tr th:only-of-type {\n",
       "        vertical-align: middle;\n",
       "    }\n",
       "\n",
       "    .dataframe tbody tr th {\n",
       "        vertical-align: top;\n",
       "    }\n",
       "\n",
       "    .dataframe thead th {\n",
       "        text-align: right;\n",
       "    }\n",
       "</style>\n",
       "<table border=\"1\" class=\"dataframe\">\n",
       "  <thead>\n",
       "    <tr style=\"text-align: right;\">\n",
       "      <th></th>\n",
       "      <th>Name</th>\n",
       "      <th>Age</th>\n",
       "      <th>City</th>\n",
       "      <th>Salary</th>\n",
       "      <th>BirthYear</th>\n",
       "      <th>AverageAge</th>\n",
       "    </tr>\n",
       "  </thead>\n",
       "  <tbody>\n",
       "    <tr>\n",
       "      <th>0</th>\n",
       "      <td>John</td>\n",
       "      <td>16</td>\n",
       "      <td>New York</td>\n",
       "      <td>50000</td>\n",
       "      <td>2008</td>\n",
       "      <td>22.0</td>\n",
       "    </tr>\n",
       "    <tr>\n",
       "      <th>1</th>\n",
       "      <td>Emily</td>\n",
       "      <td>28</td>\n",
       "      <td>Los Angeles</td>\n",
       "      <td>60000</td>\n",
       "      <td>1996</td>\n",
       "      <td>22.0</td>\n",
       "    </tr>\n",
       "    <tr>\n",
       "      <th>2</th>\n",
       "      <td>Ryan</td>\n",
       "      <td>22</td>\n",
       "      <td>Chicago</td>\n",
       "      <td>45000</td>\n",
       "      <td>2002</td>\n",
       "      <td>22.0</td>\n",
       "    </tr>\n",
       "  </tbody>\n",
       "</table>\n",
       "</div>"
      ]
     },
     "execution_count": 12,
     "metadata": {},
     "output_type": "execute_result"
    }
   ],
   "execution_count": 12
  },
  {
   "cell_type": "markdown",
   "source": [
    "### Task 4.3\n",
    "\n",
    "Calculate absolute difference between `Age` and `Average age`."
   ],
   "metadata": {
    "collapsed": false
   }
  },
  {
   "cell_type": "code",
   "source": [
    "df[\"Difference\"] = abs(df[\"Age\"] - df[\"AverageAge\"])\n",
    "df"
   ],
   "metadata": {
    "collapsed": false,
    "ExecuteTime": {
     "end_time": "2024-11-06T21:07:03.282207Z",
     "start_time": "2024-11-06T21:07:03.268044Z"
    }
   },
   "outputs": [
    {
     "data": {
      "text/plain": [
       "    Name  Age         City  Salary  BirthYear  AverageAge  Difference\n",
       "0   John   16     New York   50000       2008        22.0         6.0\n",
       "1  Emily   28  Los Angeles   60000       1996        22.0         6.0\n",
       "2   Ryan   22      Chicago   45000       2002        22.0         0.0"
      ],
      "text/html": [
       "<div>\n",
       "<style scoped>\n",
       "    .dataframe tbody tr th:only-of-type {\n",
       "        vertical-align: middle;\n",
       "    }\n",
       "\n",
       "    .dataframe tbody tr th {\n",
       "        vertical-align: top;\n",
       "    }\n",
       "\n",
       "    .dataframe thead th {\n",
       "        text-align: right;\n",
       "    }\n",
       "</style>\n",
       "<table border=\"1\" class=\"dataframe\">\n",
       "  <thead>\n",
       "    <tr style=\"text-align: right;\">\n",
       "      <th></th>\n",
       "      <th>Name</th>\n",
       "      <th>Age</th>\n",
       "      <th>City</th>\n",
       "      <th>Salary</th>\n",
       "      <th>BirthYear</th>\n",
       "      <th>AverageAge</th>\n",
       "      <th>Difference</th>\n",
       "    </tr>\n",
       "  </thead>\n",
       "  <tbody>\n",
       "    <tr>\n",
       "      <th>0</th>\n",
       "      <td>John</td>\n",
       "      <td>16</td>\n",
       "      <td>New York</td>\n",
       "      <td>50000</td>\n",
       "      <td>2008</td>\n",
       "      <td>22.0</td>\n",
       "      <td>6.0</td>\n",
       "    </tr>\n",
       "    <tr>\n",
       "      <th>1</th>\n",
       "      <td>Emily</td>\n",
       "      <td>28</td>\n",
       "      <td>Los Angeles</td>\n",
       "      <td>60000</td>\n",
       "      <td>1996</td>\n",
       "      <td>22.0</td>\n",
       "      <td>6.0</td>\n",
       "    </tr>\n",
       "    <tr>\n",
       "      <th>2</th>\n",
       "      <td>Ryan</td>\n",
       "      <td>22</td>\n",
       "      <td>Chicago</td>\n",
       "      <td>45000</td>\n",
       "      <td>2002</td>\n",
       "      <td>22.0</td>\n",
       "      <td>0.0</td>\n",
       "    </tr>\n",
       "  </tbody>\n",
       "</table>\n",
       "</div>"
      ]
     },
     "execution_count": 13,
     "metadata": {},
     "output_type": "execute_result"
    }
   ],
   "execution_count": 13
  },
  {
   "cell_type": "markdown",
   "source": [
    "## Task 5\n",
    "\n",
    "Complete the following tasks described below."
   ],
   "metadata": {
    "collapsed": false
   }
  },
  {
   "cell_type": "markdown",
   "source": [
    "### Task 5.1\n",
    "\n",
    "You have two dictionaries `data1` and `data2`. Create two `DataFrame` objects from these dictionaries. Then, `concatenate`, and `merge` these two `DataFrame` objects into one `DataFrame` object, and see the difference."
   ],
   "metadata": {
    "collapsed": false
   }
  },
  {
   "cell_type": "code",
   "source": [
    "# Data\n",
    "data1 = {'Name': ['John', 'Emily', 'Ryan'],\n",
    "         'Age': [25, 28, 22]}\n",
    "data2 = {'Name': ['Emily', 'Ryan', 'Mike'],\n",
    "         'City': ['Los Angeles', 'Chicago', 'Houston']}\n",
    "\n",
    "df1 = pd.DataFrame(data1)\n",
    "df2 = pd.DataFrame(data2)\n",
    "df_concat = pd.concat([df1, df2])\n",
    "df_merged = pd.merge(df1, df2, on=\"Name\", how=\"outer\")\n",
    "df_merged\n",
    "\n",
    "# create DataFrame objects"
   ],
   "metadata": {
    "collapsed": false,
    "ExecuteTime": {
     "end_time": "2024-11-06T21:13:46.956237Z",
     "start_time": "2024-11-06T21:13:46.939297Z"
    }
   },
   "outputs": [
    {
     "data": {
      "text/plain": [
       "    Name   Age         City\n",
       "0  Emily  28.0  Los Angeles\n",
       "1   John  25.0          NaN\n",
       "2   Mike   NaN      Houston\n",
       "3   Ryan  22.0      Chicago"
      ],
      "text/html": [
       "<div>\n",
       "<style scoped>\n",
       "    .dataframe tbody tr th:only-of-type {\n",
       "        vertical-align: middle;\n",
       "    }\n",
       "\n",
       "    .dataframe tbody tr th {\n",
       "        vertical-align: top;\n",
       "    }\n",
       "\n",
       "    .dataframe thead th {\n",
       "        text-align: right;\n",
       "    }\n",
       "</style>\n",
       "<table border=\"1\" class=\"dataframe\">\n",
       "  <thead>\n",
       "    <tr style=\"text-align: right;\">\n",
       "      <th></th>\n",
       "      <th>Name</th>\n",
       "      <th>Age</th>\n",
       "      <th>City</th>\n",
       "    </tr>\n",
       "  </thead>\n",
       "  <tbody>\n",
       "    <tr>\n",
       "      <th>0</th>\n",
       "      <td>Emily</td>\n",
       "      <td>28.0</td>\n",
       "      <td>Los Angeles</td>\n",
       "    </tr>\n",
       "    <tr>\n",
       "      <th>1</th>\n",
       "      <td>John</td>\n",
       "      <td>25.0</td>\n",
       "      <td>NaN</td>\n",
       "    </tr>\n",
       "    <tr>\n",
       "      <th>2</th>\n",
       "      <td>Mike</td>\n",
       "      <td>NaN</td>\n",
       "      <td>Houston</td>\n",
       "    </tr>\n",
       "    <tr>\n",
       "      <th>3</th>\n",
       "      <td>Ryan</td>\n",
       "      <td>22.0</td>\n",
       "      <td>Chicago</td>\n",
       "    </tr>\n",
       "  </tbody>\n",
       "</table>\n",
       "</div>"
      ]
     },
     "execution_count": 22,
     "metadata": {},
     "output_type": "execute_result"
    }
   ],
   "execution_count": 22
  },
  {
   "cell_type": "code",
   "execution_count": 22,
   "outputs": [],
   "source": [
    "# merge"
   ],
   "metadata": {
    "collapsed": false,
    "ExecuteTime": {
     "end_time": "2023-07-05T09:41:41.152019Z",
     "start_time": "2023-07-05T09:41:41.137327Z"
    }
   }
  },
  {
   "cell_type": "code",
   "execution_count": 24,
   "outputs": [],
   "source": [
    "# concatenate"
   ],
   "metadata": {
    "collapsed": false,
    "ExecuteTime": {
     "end_time": "2023-07-05T09:41:47.734380Z",
     "start_time": "2023-07-05T09:41:47.731660Z"
    }
   }
  },
  {
   "cell_type": "markdown",
   "source": [
    "### Task 5.2\n",
    "\n",
    "You have two `Series` objects `s1` and `s2`. Make default mathematical operations on these two `Series` objects. Such as `+`, `-`, `*`, `/`, `**`, `//`, `%`. Also, filter `s1` and print only even numbers, and `s2` only with odd numbers.\n"
   ],
   "metadata": {
    "collapsed": false
   }
  },
  {
   "cell_type": "code",
   "source": [
    "s1 = pd.Series([1, 2, 3, 4, 5])\n",
    "s2 = pd.Series([6, 7, 8, 9, 10])"
   ],
   "metadata": {
    "collapsed": false,
    "ExecuteTime": {
     "end_time": "2024-11-06T21:21:08.425344Z",
     "start_time": "2024-11-06T21:21:08.415050Z"
    }
   },
   "outputs": [
    {
     "data": {
      "text/plain": [
       "0     1\n",
       "1     4\n",
       "2     9\n",
       "3    16\n",
       "4    25\n",
       "dtype: int64"
      ]
     },
     "execution_count": 33,
     "metadata": {},
     "output_type": "execute_result"
    }
   ],
   "execution_count": 33
  },
  {
   "cell_type": "code",
   "source": "sum_ = s1 + s2",
   "metadata": {
    "collapsed": false,
    "ExecuteTime": {
     "end_time": "2024-11-06T21:22:50.571076Z",
     "start_time": "2024-11-06T21:22:50.565148Z"
    }
   },
   "outputs": [],
   "execution_count": 34
  },
  {
   "cell_type": "code",
   "source": "sub_ = s1 - s2",
   "metadata": {
    "collapsed": false,
    "ExecuteTime": {
     "end_time": "2024-11-06T21:22:51.814690Z",
     "start_time": "2024-11-06T21:22:51.810205Z"
    }
   },
   "outputs": [],
   "execution_count": 35
  },
  {
   "cell_type": "code",
   "execution_count": null,
   "outputs": [],
   "source": "mul_ = s1 * s2",
   "metadata": {
    "collapsed": false
   }
  },
  {
   "cell_type": "code",
   "execution_count": null,
   "outputs": [],
   "source": "div_ = s1 / s2",
   "metadata": {
    "collapsed": false
   }
  },
  {
   "cell_type": "code",
   "execution_count": null,
   "outputs": [],
   "source": "pow_ = s1 ** 2",
   "metadata": {
    "collapsed": false
   }
  },
  {
   "cell_type": "code",
   "execution_count": null,
   "outputs": [],
   "source": "div_rem_ = s1 // s2",
   "metadata": {
    "collapsed": false
   }
  },
  {
   "cell_type": "code",
   "execution_count": null,
   "outputs": [],
   "source": "per_ = s1 % s2",
   "metadata": {
    "collapsed": false
   }
  },
  {
   "cell_type": "code",
   "execution_count": null,
   "outputs": [],
   "source": "s1_sorted = s1[s1 % 2 == 0]",
   "metadata": {
    "collapsed": false
   }
  },
  {
   "cell_type": "code",
   "execution_count": null,
   "outputs": [],
   "source": "s2_sorted = s2[s2 % 2 != 0]",
   "metadata": {
    "collapsed": false
   }
  },
  {
   "cell_type": "markdown",
   "source": [
    "### Task 5.3\n",
    "\n",
    "You have a `Serias` object `s`. Make the following operations on this `Series` object:\n",
    "\n",
    "* make all words in uppercase without loops;\n",
    "* get length of each word without loops.\n"
   ],
   "metadata": {
    "collapsed": false
   }
  },
  {
   "cell_type": "code",
   "source": [
    "s = pd.Series([\"numpy\", \"pandas\", \"matplotlib\"])"
   ],
   "metadata": {
    "collapsed": false,
    "ExecuteTime": {
     "end_time": "2024-11-06T21:25:08.980198Z",
     "start_time": "2024-11-06T21:25:08.975954Z"
    }
   },
   "outputs": [],
   "execution_count": 37
  },
  {
   "cell_type": "code",
   "source": [
    "uppercase_s = s.str.upper()\n",
    "uppercase_s"
   ],
   "metadata": {
    "collapsed": false,
    "ExecuteTime": {
     "end_time": "2024-11-06T21:26:20.503954Z",
     "start_time": "2024-11-06T21:26:20.495767Z"
    }
   },
   "outputs": [
    {
     "data": {
      "text/plain": [
       "0         NUMPY\n",
       "1        PANDAS\n",
       "2    MATPLOTLIB\n",
       "dtype: object"
      ]
     },
     "execution_count": 39,
     "metadata": {},
     "output_type": "execute_result"
    }
   ],
   "execution_count": 39
  },
  {
   "cell_type": "code",
   "source": [
    "words_len = s.str.len()\n",
    "words_len"
   ],
   "metadata": {
    "collapsed": false,
    "ExecuteTime": {
     "end_time": "2024-11-06T21:25:10.416118Z",
     "start_time": "2024-11-06T21:25:10.406372Z"
    }
   },
   "outputs": [
    {
     "data": {
      "text/plain": [
       "0     5\n",
       "1     6\n",
       "2    10\n",
       "dtype: int64"
      ]
     },
     "execution_count": 38,
     "metadata": {},
     "output_type": "execute_result"
    }
   ],
   "execution_count": 38
  },
  {
   "cell_type": "markdown",
   "source": [
    "## Task 6 Optional\n",
    "\n",
    "You have a large dataset consisting of a series of numbers. Your task is to calculate the moving average of the series using a window of `5` elements. The moving average is the average of a set of consecutive values in the series, where the window `slides` through the series to compute the average at each position. The goal is to calculate the moving average efficiently and accurately. Also, compare time performance of Python and Pandas solutions.\n",
    "\n",
    "> Please, note: If you get `nan` while calculating the moving average, you should remove it from the result. Pandas solution should take 1-2 lines of code.\n"
   ],
   "metadata": {
    "collapsed": false
   }
  },
  {
   "cell_type": "markdown",
   "source": [
    "### Python Solution\n",
    "\n",
    "In the Python solution, a large dataset is generated using random numbers. The moving average is computed by iterating over the dataset using a loop. At each position, a window of 5 elements is created, and the average is calculated by summing the values in the window and dividing by 5."
   ],
   "metadata": {
    "collapsed": false
   }
  },
  {
   "cell_type": "code",
   "execution_count": null,
   "outputs": [],
   "source": [
    "import random\n",
    "\n",
    "def unknown_signature():\n",
    "    # Generate a large dataset\n",
    "    data = [random.randint(1, 100) for _ in range(10000000)]\n",
    "\n",
    "    # Calculate the moving average with a window of 5\n",
    "    moving_averages = []\n",
    "    for i in range(4, len(data)):\n",
    "        window = data[i - 4 : i + 1]\n",
    "        average = sum(window) / 5\n",
    "        moving_averages.append(average)\n",
    "    return moving_averages[:10]\n",
    "\n",
    "%time unknown_signature()"
   ],
   "metadata": {
    "collapsed": false
   }
  },
  {
   "cell_type": "markdown",
   "source": [
    "### Solution using Pandas and Numpy\n"
   ],
   "metadata": {
    "collapsed": false
   }
  },
  {
   "cell_type": "code",
   "execution_count": null,
   "outputs": [],
   "source": [
    "# write your code here\n"
   ],
   "metadata": {
    "collapsed": false
   }
  }
 ],
 "metadata": {
  "kernelspec": {
   "display_name": "Python 3",
   "language": "python",
   "name": "python3"
  },
  "language_info": {
   "codemirror_mode": {
    "name": "ipython",
    "version": 2
   },
   "file_extension": ".py",
   "mimetype": "text/x-python",
   "name": "python",
   "nbconvert_exporter": "python",
   "pygments_lexer": "ipython2",
   "version": "2.7.6"
  }
 },
 "nbformat": 4,
 "nbformat_minor": 0
}
